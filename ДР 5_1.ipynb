{
  "nbformat": 4,
  "nbformat_minor": 0,
  "metadata": {
    "colab": {
      "provenance": []
    },
    "kernelspec": {
      "name": "python3",
      "display_name": "Python 3"
    },
    "language_info": {
      "name": "python"
    }
  },
  "cells": [
    {
      "cell_type": "code",
      "execution_count": null,
      "metadata": {
        "colab": {
          "base_uri": "https://localhost:8080/",
          "height": 339
        },
        "id": "k5VPaiIf27Q_",
        "outputId": "cb5cdb92-d3f1-41c0-c265-a25ab98ec7a8"
      },
      "outputs": [
        {
          "output_type": "error",
          "ename": "FileNotFoundError",
          "evalue": "[Errno 2] No such file or directory: 'flavors_of_cacao.csv'",
          "traceback": [
            "\u001b[0;31m---------------------------------------------------------------------------\u001b[0m",
            "\u001b[0;31mFileNotFoundError\u001b[0m                         Traceback (most recent call last)",
            "\u001b[0;32m<ipython-input-3-57966c5c37fd>\u001b[0m in \u001b[0;36m<cell line: 8>\u001b[0;34m()\u001b[0m\n\u001b[1;32m      6\u001b[0m \u001b[0;32mfrom\u001b[0m \u001b[0msklearn\u001b[0m\u001b[0;34m.\u001b[0m\u001b[0mmodel_selection\u001b[0m \u001b[0;32mimport\u001b[0m \u001b[0mtrain_test_split\u001b[0m\u001b[0;34m\u001b[0m\u001b[0;34m\u001b[0m\u001b[0m\n\u001b[1;32m      7\u001b[0m \u001b[0;32mfrom\u001b[0m \u001b[0msklearn\u001b[0m\u001b[0;34m.\u001b[0m\u001b[0mmetrics\u001b[0m \u001b[0;32mimport\u001b[0m \u001b[0mmean_absolute_error\u001b[0m\u001b[0;34m,\u001b[0m \u001b[0mmean_squared_error\u001b[0m\u001b[0;34m,\u001b[0m \u001b[0mr2_score\u001b[0m\u001b[0;34m\u001b[0m\u001b[0;34m\u001b[0m\u001b[0m\n\u001b[0;32m----> 8\u001b[0;31m \u001b[0mdata\u001b[0m \u001b[0;34m=\u001b[0m \u001b[0mpd\u001b[0m\u001b[0;34m.\u001b[0m\u001b[0mread_csv\u001b[0m\u001b[0;34m(\u001b[0m\u001b[0;34m'flavors_of_cacao.csv'\u001b[0m\u001b[0;34m)\u001b[0m\u001b[0;34m\u001b[0m\u001b[0;34m\u001b[0m\u001b[0m\n\u001b[0m\u001b[1;32m      9\u001b[0m \u001b[0mprint\u001b[0m\u001b[0;34m(\u001b[0m\u001b[0mdata\u001b[0m\u001b[0;34m)\u001b[0m\u001b[0;34m\u001b[0m\u001b[0;34m\u001b[0m\u001b[0m\n",
            "\u001b[0;32m/usr/local/lib/python3.10/dist-packages/pandas/io/parsers/readers.py\u001b[0m in \u001b[0;36mread_csv\u001b[0;34m(filepath_or_buffer, sep, delimiter, header, names, index_col, usecols, dtype, engine, converters, true_values, false_values, skipinitialspace, skiprows, skipfooter, nrows, na_values, keep_default_na, na_filter, verbose, skip_blank_lines, parse_dates, infer_datetime_format, keep_date_col, date_parser, date_format, dayfirst, cache_dates, iterator, chunksize, compression, thousands, decimal, lineterminator, quotechar, quoting, doublequote, escapechar, comment, encoding, encoding_errors, dialect, on_bad_lines, delim_whitespace, low_memory, memory_map, float_precision, storage_options, dtype_backend)\u001b[0m\n\u001b[1;32m   1024\u001b[0m     \u001b[0mkwds\u001b[0m\u001b[0;34m.\u001b[0m\u001b[0mupdate\u001b[0m\u001b[0;34m(\u001b[0m\u001b[0mkwds_defaults\u001b[0m\u001b[0;34m)\u001b[0m\u001b[0;34m\u001b[0m\u001b[0;34m\u001b[0m\u001b[0m\n\u001b[1;32m   1025\u001b[0m \u001b[0;34m\u001b[0m\u001b[0m\n\u001b[0;32m-> 1026\u001b[0;31m     \u001b[0;32mreturn\u001b[0m \u001b[0m_read\u001b[0m\u001b[0;34m(\u001b[0m\u001b[0mfilepath_or_buffer\u001b[0m\u001b[0;34m,\u001b[0m \u001b[0mkwds\u001b[0m\u001b[0;34m)\u001b[0m\u001b[0;34m\u001b[0m\u001b[0;34m\u001b[0m\u001b[0m\n\u001b[0m\u001b[1;32m   1027\u001b[0m \u001b[0;34m\u001b[0m\u001b[0m\n\u001b[1;32m   1028\u001b[0m \u001b[0;34m\u001b[0m\u001b[0m\n",
            "\u001b[0;32m/usr/local/lib/python3.10/dist-packages/pandas/io/parsers/readers.py\u001b[0m in \u001b[0;36m_read\u001b[0;34m(filepath_or_buffer, kwds)\u001b[0m\n\u001b[1;32m    618\u001b[0m \u001b[0;34m\u001b[0m\u001b[0m\n\u001b[1;32m    619\u001b[0m     \u001b[0;31m# Create the parser.\u001b[0m\u001b[0;34m\u001b[0m\u001b[0;34m\u001b[0m\u001b[0m\n\u001b[0;32m--> 620\u001b[0;31m     \u001b[0mparser\u001b[0m \u001b[0;34m=\u001b[0m \u001b[0mTextFileReader\u001b[0m\u001b[0;34m(\u001b[0m\u001b[0mfilepath_or_buffer\u001b[0m\u001b[0;34m,\u001b[0m \u001b[0;34m**\u001b[0m\u001b[0mkwds\u001b[0m\u001b[0;34m)\u001b[0m\u001b[0;34m\u001b[0m\u001b[0;34m\u001b[0m\u001b[0m\n\u001b[0m\u001b[1;32m    621\u001b[0m \u001b[0;34m\u001b[0m\u001b[0m\n\u001b[1;32m    622\u001b[0m     \u001b[0;32mif\u001b[0m \u001b[0mchunksize\u001b[0m \u001b[0;32mor\u001b[0m \u001b[0miterator\u001b[0m\u001b[0;34m:\u001b[0m\u001b[0;34m\u001b[0m\u001b[0;34m\u001b[0m\u001b[0m\n",
            "\u001b[0;32m/usr/local/lib/python3.10/dist-packages/pandas/io/parsers/readers.py\u001b[0m in \u001b[0;36m__init__\u001b[0;34m(self, f, engine, **kwds)\u001b[0m\n\u001b[1;32m   1618\u001b[0m \u001b[0;34m\u001b[0m\u001b[0m\n\u001b[1;32m   1619\u001b[0m         \u001b[0mself\u001b[0m\u001b[0;34m.\u001b[0m\u001b[0mhandles\u001b[0m\u001b[0;34m:\u001b[0m \u001b[0mIOHandles\u001b[0m \u001b[0;34m|\u001b[0m \u001b[0;32mNone\u001b[0m \u001b[0;34m=\u001b[0m \u001b[0;32mNone\u001b[0m\u001b[0;34m\u001b[0m\u001b[0;34m\u001b[0m\u001b[0m\n\u001b[0;32m-> 1620\u001b[0;31m         \u001b[0mself\u001b[0m\u001b[0;34m.\u001b[0m\u001b[0m_engine\u001b[0m \u001b[0;34m=\u001b[0m \u001b[0mself\u001b[0m\u001b[0;34m.\u001b[0m\u001b[0m_make_engine\u001b[0m\u001b[0;34m(\u001b[0m\u001b[0mf\u001b[0m\u001b[0;34m,\u001b[0m \u001b[0mself\u001b[0m\u001b[0;34m.\u001b[0m\u001b[0mengine\u001b[0m\u001b[0;34m)\u001b[0m\u001b[0;34m\u001b[0m\u001b[0;34m\u001b[0m\u001b[0m\n\u001b[0m\u001b[1;32m   1621\u001b[0m \u001b[0;34m\u001b[0m\u001b[0m\n\u001b[1;32m   1622\u001b[0m     \u001b[0;32mdef\u001b[0m \u001b[0mclose\u001b[0m\u001b[0;34m(\u001b[0m\u001b[0mself\u001b[0m\u001b[0;34m)\u001b[0m \u001b[0;34m->\u001b[0m \u001b[0;32mNone\u001b[0m\u001b[0;34m:\u001b[0m\u001b[0;34m\u001b[0m\u001b[0;34m\u001b[0m\u001b[0m\n",
            "\u001b[0;32m/usr/local/lib/python3.10/dist-packages/pandas/io/parsers/readers.py\u001b[0m in \u001b[0;36m_make_engine\u001b[0;34m(self, f, engine)\u001b[0m\n\u001b[1;32m   1878\u001b[0m                 \u001b[0;32mif\u001b[0m \u001b[0;34m\"b\"\u001b[0m \u001b[0;32mnot\u001b[0m \u001b[0;32min\u001b[0m \u001b[0mmode\u001b[0m\u001b[0;34m:\u001b[0m\u001b[0;34m\u001b[0m\u001b[0;34m\u001b[0m\u001b[0m\n\u001b[1;32m   1879\u001b[0m                     \u001b[0mmode\u001b[0m \u001b[0;34m+=\u001b[0m \u001b[0;34m\"b\"\u001b[0m\u001b[0;34m\u001b[0m\u001b[0;34m\u001b[0m\u001b[0m\n\u001b[0;32m-> 1880\u001b[0;31m             self.handles = get_handle(\n\u001b[0m\u001b[1;32m   1881\u001b[0m                 \u001b[0mf\u001b[0m\u001b[0;34m,\u001b[0m\u001b[0;34m\u001b[0m\u001b[0;34m\u001b[0m\u001b[0m\n\u001b[1;32m   1882\u001b[0m                 \u001b[0mmode\u001b[0m\u001b[0;34m,\u001b[0m\u001b[0;34m\u001b[0m\u001b[0;34m\u001b[0m\u001b[0m\n",
            "\u001b[0;32m/usr/local/lib/python3.10/dist-packages/pandas/io/common.py\u001b[0m in \u001b[0;36mget_handle\u001b[0;34m(path_or_buf, mode, encoding, compression, memory_map, is_text, errors, storage_options)\u001b[0m\n\u001b[1;32m    871\u001b[0m         \u001b[0;32mif\u001b[0m \u001b[0mioargs\u001b[0m\u001b[0;34m.\u001b[0m\u001b[0mencoding\u001b[0m \u001b[0;32mand\u001b[0m \u001b[0;34m\"b\"\u001b[0m \u001b[0;32mnot\u001b[0m \u001b[0;32min\u001b[0m \u001b[0mioargs\u001b[0m\u001b[0;34m.\u001b[0m\u001b[0mmode\u001b[0m\u001b[0;34m:\u001b[0m\u001b[0;34m\u001b[0m\u001b[0;34m\u001b[0m\u001b[0m\n\u001b[1;32m    872\u001b[0m             \u001b[0;31m# Encoding\u001b[0m\u001b[0;34m\u001b[0m\u001b[0;34m\u001b[0m\u001b[0m\n\u001b[0;32m--> 873\u001b[0;31m             handle = open(\n\u001b[0m\u001b[1;32m    874\u001b[0m                 \u001b[0mhandle\u001b[0m\u001b[0;34m,\u001b[0m\u001b[0;34m\u001b[0m\u001b[0;34m\u001b[0m\u001b[0m\n\u001b[1;32m    875\u001b[0m                 \u001b[0mioargs\u001b[0m\u001b[0;34m.\u001b[0m\u001b[0mmode\u001b[0m\u001b[0;34m,\u001b[0m\u001b[0;34m\u001b[0m\u001b[0;34m\u001b[0m\u001b[0m\n",
            "\u001b[0;31mFileNotFoundError\u001b[0m: [Errno 2] No such file or directory: 'flavors_of_cacao.csv'"
          ]
        }
      ],
      "source": [
        "#  ДЗ №5\n",
        "\n",
        "import numpy as np\n",
        "import pandas as pd\n",
        "import matplotlib.pyplot as plt\n",
        "from sklearn.model_selection import train_test_split\n",
        "from sklearn.metrics import mean_absolute_error, mean_squared_error, r2_score\n",
        "data = pd.read_csv('flavors_of_cacao.csv')\n",
        "print(data)"
      ]
    },
    {
      "cell_type": "markdown",
      "source": [
        "# New Section"
      ],
      "metadata": {
        "id": "oqZDs7Cq5ruf"
      }
    },
    {
      "cell_type": "code",
      "source": [
        "print(data.isnull().sum())    # Проверка на пустые значения"
      ],
      "metadata": {
        "id": "TrCrkXgf9Ggy"
      },
      "execution_count": null,
      "outputs": []
    },
    {
      "cell_type": "code",
      "source": [
        "data.head()"
      ],
      "metadata": {
        "id": "a6gLTZgC_ewn"
      },
      "execution_count": null,
      "outputs": []
    },
    {
      "cell_type": "code",
      "source": [
        "data.dtypes    # типы данных в датасете"
      ],
      "metadata": {
        "id": "5YUOKKEZAWHi"
      },
      "execution_count": null,
      "outputs": []
    },
    {
      "cell_type": "code",
      "source": [
        "# Визуализация с помощью гистограмм\n",
        "\n",
        "data.hist(bins=50, figsize=(15, 10), color='skyblue', edgecolor='black')\n",
        "plt.show()"
      ],
      "metadata": {
        "id": "kxZ_woqJAst6"
      },
      "execution_count": null,
      "outputs": []
    },
    {
      "cell_type": "code",
      "source": [
        "# Парные диаграммы рассеяния\n",
        "import seaborn as sns\n",
        "\n",
        "sns.set(style=\"whitegrid\")\n",
        "sns.pairplot(data)\n",
        "plt.show()"
      ],
      "metadata": {
        "id": "TOct68uWCnTG"
      },
      "execution_count": null,
      "outputs": []
    },
    {
      "cell_type": "code",
      "source": [
        "  # Расчет корреляционной матрицы\n",
        "\n",
        "sns.set(style=\"white\")\n",
        "\n",
        "numeric_df = data.select_dtypes(include=[np.number])\n",
        "corr = numeric_df.corr()\n",
        "mask = np.triu(np.ones_like(corr, dtype=bool))\n",
        "cmap = sns.diverging_palette(230, 20, as_cmap=True)\n",
        "\n",
        "plt.figure(figsize=(10, 8))\n",
        "sns.heatmap(corr, mask=mask, cmap=cmap, vmax=.3, center=0,\n",
        "            square=True, linewidths=.5, cbar_kws={\"shrink\": .5}, annot=True)\n",
        "plt.title('Тепловая карта корреляций', fontsize=20)\n",
        "plt.show()\n"
      ],
      "metadata": {
        "id": "apiN5VxeEBuD"
      },
      "execution_count": null,
      "outputs": []
    },
    {
      "cell_type": "code",
      "source": [
        "#  Ящики с усами для каждого числового столбца\n",
        "plt.figure(figsize=(12, 10))\n",
        "\n",
        "for index, column in enumerate(data.select_dtypes(include=[np.number]).columns):\n",
        "    plt.subplot((len(data.columns) // 3) + 1, 3, index + 1)\n",
        "    sns.boxplot(y=data[column])\n",
        "\n",
        "plt.tight_layout()\n",
        "plt.show()\n"
      ],
      "metadata": {
        "id": "hAr-jEBkMeIJ"
      },
      "execution_count": null,
      "outputs": []
    },
    {
      "cell_type": "code",
      "source": [
        "# Предварительная обработка данных\n",
        "from sklearn.preprocessing import StandardScaler, LabelEncoder\n",
        "\n",
        "cat_features = ['Specific Bean Origin\\nor Bar Name', 'Cocoa\\nPercent', 'Bean\\nType', 'Company\\nLocation']\n",
        "num_features = ['Rating', 'REF', 'Review\\nDate']\n",
        "# Преобразуем категориальные признаки в числовые\n",
        "label_encoders = {}\n",
        "for feature in cat_features:\n",
        "    le = LabelEncoder()\n",
        "    data[feature] = le.fit_transform(data[feature])\n",
        "    label_encoders[feature] = le\n",
        "    print(f'метки для {feature}: {dict(enumerate (le.classes_))}')\n",
        "data.drop_duplicates()\n",
        "data"
      ],
      "metadata": {
        "id": "6kBBqbm8OmJa"
      },
      "execution_count": null,
      "outputs": []
    },
    {
      "source": [
        "# Location vs Rating\n",
        "\n",
        "from matplotlib import pyplot as plt\n",
        "data.plot(kind='scatter', x='Company\\nLocation', y='Rating', s=32, alpha=.8)\n",
        "plt.gca().spines[['top', 'right',]].set_visible(False)"
      ],
      "cell_type": "code",
      "execution_count": null,
      "outputs": [],
      "metadata": {
        "id": "ehxUChve9HdW"
      }
    },
    {
      "cell_type": "code",
      "source": [
        "from sklearn.linear_model import LinearRegression, BayesianRidge, Ridge\n",
        "from sklearn.ensemble import ExtraTreesRegressor\n",
        "import xgboost as xgb\n",
        "\n",
        "features = ['Cocoa\\nPercent', 'Bean\\nType', 'Company\\nLocation', 'Rating', 'REF', 'Review\\nDate']\n",
        "X = data[features]\n",
        "target = data['Rating']\n",
        "# Разделение данных на обучающую и тестовую выборки\n",
        "X_train, X_test, y_train, y_test = train_test_split(X, target, test_size=0.3, random_state=42)\n",
        "\n",
        "# Линейная регрессия\n",
        "model_lr = LinearRegression()\n",
        "model_lr.fit(X_train, y_train)\n",
        "y_pred_lr = model_lr.predict(X_test)\n",
        "mae = mean_absolute_error(y_test, y_pred_lr)\n",
        "mse = mean_squared_error(y_test, y_pred_lr)\n",
        "r2 = r2_score(y_test, y_pred_lr)\n",
        "print('Linear Regression;')\n",
        "print(f'          MAE: {mae}')\n",
        "print(f'          MSE: {mse}')\n",
        "print(f'          R²: {r2}')\n",
        "\n",
        "plt.figure(figsize=(10, 6))\n",
        "plt.scatter(range(len(y_test)), y_test, color='blue', label='Фактические значения')\n",
        "plt.scatter(range(len(y_test)), y_pred_lr, color='red', label='Предсказанные значения')\n",
        "plt.xlabel('Наблюдение')\n",
        "plt.ylabel('Значение')\n",
        "plt.title('Фактические и предсказанные значения')\n",
        "plt.legend()\n",
        "plt.show()"
      ],
      "metadata": {
        "id": "cmL5Vx6Bm-7q"
      },
      "execution_count": null,
      "outputs": []
    },
    {
      "cell_type": "code",
      "source": [
        "\n",
        "y_train_pred = model_lr.predict(X_train)\n",
        "mae = mean_absolute_error(y_train, y_train_pred)\n",
        "mse = mean_squared_error(y_train, y_train_pred)\n",
        "r2 = r2_score(y_train, y_train_pred)\n",
        "print('Linear Regression;')\n",
        "print(f'          MAE: {mae}')\n",
        "print(f'          MSE: {mse}')\n",
        "print(f'          R²: {r2}')\n",
        "\n",
        "plt.figure(figsize=(10, 6))\n",
        "plt.scatter(range(len(y_train)), y_train, color='blue', label='Фактические значения')\n",
        "plt.scatter(range(len(y_train)), y_train_pred, color='red', label='Предсказанные значения')\n",
        "plt.xlabel('Наблюдение')\n",
        "plt.ylabel('Значение')\n",
        "plt.title('Фактические и предсказанные значения')\n",
        "plt.legend()\n",
        "plt.show()"
      ],
      "metadata": {
        "id": "Gh9PuHuAg9bI"
      },
      "execution_count": null,
      "outputs": []
    },
    {
      "cell_type": "code",
      "source": [
        "# Байесовская регрессия\n",
        "model_br = BayesianRidge()\n",
        "model_br.fit(X_train, y_train)\n",
        "y_pred_br = model_br.predict(X_test)\n",
        "\n",
        "mae = mean_absolute_error(y_test, y_pred_br)\n",
        "mse = mean_squared_error(y_test, y_pred_br)\n",
        "r2 = r2_score(y_test, y_pred_br)\n",
        "print('Bayesian Ridge Regression:')\n",
        "print(f'          MAE: {mae}')\n",
        "print(f'          MSE: {mse}')\n",
        "print(f'          R²: {r2}')\n",
        "\n",
        "plt.figure(figsize=(10, 6))\n",
        "plt.scatter(range(len(y_test)), y_test, color='blue', label='Фактические значения')\n",
        "plt.scatter(range(len(y_test)), y_pred_br, color='red', label='Предсказанные значения')\n",
        "plt.xlabel('Наблюдение')\n",
        "plt.ylabel('Значение')\n",
        "plt.title('Фактические и предсказанные значения')\n",
        "plt.legend()\n",
        "plt.show()"
      ],
      "metadata": {
        "id": "J3sIHr63bwaU"
      },
      "execution_count": null,
      "outputs": []
    },
    {
      "cell_type": "code",
      "source": [
        "# Гребневая регрессия\n",
        "model_rr = Ridge()\n",
        "model_rr.fit(X_train, y_train)\n",
        "y_pred_rr = model_rr.predict(X_test)\n",
        "\n",
        "mae = mean_absolute_error(y_test, y_pred_rr)\n",
        "mse = mean_squared_error(y_test, y_pred_rr)\n",
        "r2 = r2_score(y_test, y_pred_rr)\n",
        "print('Ridge Regression;')\n",
        "print(f'          MAE: {mae}')\n",
        "print(f'          MSE: {mse}')\n",
        "print(f'          R²: {r2}')\n",
        "\n",
        "plt.figure(figsize=(10, 6))\n",
        "plt.scatter(range(len(y_test)), y_test, color='blue', label='Фактические значения')\n",
        "plt.scatter(range(len(y_test)), y_pred_rr, color='red', label='Предсказанные значения')\n",
        "plt.xlabel('Наблюдение')\n",
        "plt.ylabel('Значение')\n",
        "plt.title('Фактические и предсказанные значения')\n",
        "plt.legend()\n",
        "plt.show()"
      ],
      "metadata": {
        "id": "IG6eaKSnchkR"
      },
      "execution_count": null,
      "outputs": []
    },
    {
      "cell_type": "code",
      "source": [
        "# Extra Trees\n",
        "model_et = ExtraTreesRegressor(random_state=42)\n",
        "model_et.fit(X_train, y_train)\n",
        "y_pred_et = model_et.predict(X_test)\n",
        "\n",
        "mae = mean_absolute_error(y_test, y_pred_et)\n",
        "mse = mean_squared_error(y_test, y_pred_et)\n",
        "r2 = r2_score(y_test, y_pred_et)\n",
        "print('Extra Trees Regressor:')\n",
        "print(f'          MAE: {mae}')\n",
        "print(f'          MSE: {mse}')\n",
        "print(f'          R²: {r2}')\n",
        "\n",
        "plt.figure(figsize=(10, 6))\n",
        "plt.scatter(range(len(y_test)), y_test, color='blue', label='Фактические значения')\n",
        "plt.scatter(range(len(y_test)), y_pred_et, color='red', label='Предсказанные значения')\n",
        "plt.xlabel('Наблюдение')\n",
        "plt.ylabel('Значение')\n",
        "plt.title('Фактические и предсказанные значения')\n",
        "plt.legend()\n",
        "plt.show()"
      ],
      "metadata": {
        "id": "w0WbaHR-dVhQ"
      },
      "execution_count": null,
      "outputs": []
    },
    {
      "cell_type": "code",
      "source": [
        "# Extreme Gradient Boosting\n",
        "model_xgb = xgb.XGBRegressor()\n",
        "model_xgb.fit(X_train, y_train)\n",
        "y_pred_xgb = model_xgb.predict(X_test)\n",
        "\n",
        "mae = mean_absolute_error(y_test, y_pred_xgb)\n",
        "mse = mean_squared_error(y_test, y_pred_xgb)\n",
        "r2 = r2_score(y_test, y_pred_xgb)\n",
        "print('Extra Trees Regressor:')\n",
        "print(f'          MAE: {mae}')\n",
        "print(f'          MSE: {mse}')\n",
        "print(f'          R²: {r2}')\n",
        "\n",
        "plt.figure(figsize=(10, 6))\n",
        "plt.scatter(range(len(y_test)), y_test, color='blue', label='Фактические значения')\n",
        "plt.scatter(range(len(y_test)), y_pred_xgb, color='red', label='Предсказанные значения')\n",
        "plt.xlabel('Наблюдение')\n",
        "plt.ylabel('Значение')\n",
        "plt.title('Фактические и предсказанные значения')\n",
        "plt.legend()\n",
        "plt.show()"
      ],
      "metadata": {
        "id": "RZXQOiBjdXdJ"
      },
      "execution_count": null,
      "outputs": []
    },
    {
      "cell_type": "code",
      "source": [
        "# Ансамбль из тех же моделей\n",
        "from sklearn.ensemble import StackingRegressor\n",
        "\n",
        "r1 = LinearRegression()\n",
        "r2 = BayesianRidge()\n",
        "r3 = Ridge()\n",
        "r4 = ExtraTreesRegressor()\n",
        "r5 = xgb.XGBRegressor()\n",
        "\n",
        "stacking_regressor = StackingRegressor(estimators=[\n",
        "    ('lr', r1),\n",
        "    ('br', r2),\n",
        "    ('rr', r3),\n",
        "    ('et', r4),\n",
        "    ('xgb', r5)\n",
        "])\n",
        "\n",
        "stacking_regressor.fit(X_train, y_train)\n",
        "y_pred_stacking = stacking_regressor.predict(X_test)\n",
        "\n",
        "mae_stacking = mean_absolute_error(y_test, y_pred_stacking)\n",
        "mse_stacking = mean_squared_error(y_test, y_pred_stacking)\n",
        "r2_stacking = r2_score(y_test, y_pred_stacking)\n",
        "\n",
        "print('Stacking Regressor:')\n",
        "print(f'          MAE: {mae_stacking}')\n",
        "print(f'          MSE: {mse_stacking}')\n",
        "print(f'          R²: {r2_stacking}')\n",
        "\n",
        "plt.figure(figsize=(10, 6))\n",
        "plt.scatter(range(len(y_test)), y_test, color='blue', label='Фактические значения')\n",
        "plt.scatter(range(len(y_test)), y_pred_stacking, color='red', label='Предсказанные значения')\n",
        "plt.xlabel('Наблюдение')\n",
        "plt.ylabel('Значение')\n",
        "plt.title('Фактические и предсказанные значения (Стэкинг)')\n",
        "plt.legend()\n",
        "plt.show()"
      ],
      "metadata": {
        "id": "Ljx8MgASojrk"
      },
      "execution_count": null,
      "outputs": []
    },
    {
      "cell_type": "code",
      "source": [],
      "metadata": {
        "id": "a2r8sfxKu1Oe"
      },
      "execution_count": null,
      "outputs": []
    },
    {
      "cell_type": "code",
      "source": [
        "# Ищем аномалии\n",
        "from sklearn.ensemble import IsolationForest\n",
        "\n",
        "clf = IsolationForest(contamination=0.05, random_state=42)\n",
        "clf.fit(X)\n",
        "anomalies = clf.predict(X)\n",
        "data['anomaly'] = anomalies\n",
        "\n",
        "plt.figure(figsize=(12, 6))\n",
        "plt.scatter(data.index, data['Cocoa\\nPercent)'], c=data['anomaly'], cmap='coolwarm')\n",
        "plt.xlabel('Индекс')\n",
        "plt.ylabel('Cocoa\\nPercent')\n",
        "plt.title('Isolation Forest для обнаружения аномалий')\n",
        "plt.show()\n",
        "\n"
      ],
      "metadata": {
        "id": "jyLqsgPb0h3K"
      },
      "execution_count": null,
      "outputs": []
    },
    {
      "cell_type": "code",
      "source": [
        "# Z-score\n",
        "z_scores = np.abs((X - X.mean()) / X.std())\n",
        "threshold = 4\n",
        "anomalies = (z_scores > threshold).any(axis=1)\n",
        "data['anomaly'] = anomalies\n",
        "\n",
        "plt.figure(figsize=(12, 6))\n",
        "plt.scatter(data.index, data['CO2 Emissions(g/km)'], c=data['anomaly'], cmap='coolwarm')\n",
        "plt.xlabel('Индекс')\n",
        "plt.ylabel('CO2 Emissions(g/km)')\n",
        "plt.title('Z-Score для обнаружения аномалий')\n",
        "plt.show()\n"
      ],
      "metadata": {
        "id": "BltLaUpC3-XY"
      },
      "execution_count": null,
      "outputs": []
    },
    {
      "cell_type": "code",
      "source": [
        "# графики ошибок и метрик качества\n",
        "residuals = y_test - y_pred_stacking\n",
        "plt.figure(figsize=(8, 6))\n",
        "sns.histplot(residuals, kde=True, bins=30, color='orange')\n",
        "plt.title('Распределение остатков')\n",
        "plt.xlabel('Остаток (Target - Предсказание)')\n",
        "plt.ylabel('Частота')\n",
        "plt.show()\n",
        "\n",
        "plt.figure(figsize=(8, 6))\n",
        "sns.scatterplot(x=y_pred_stacking, y=residuals, color='green', alpha=0.6)\n",
        "plt.axhline(0, color='red', linestyle='--')\n",
        "plt.xlabel('Предсказанные значения')\n",
        "plt.ylabel('Остатки')\n",
        "plt.title('Остатки vs Предсказанные значения')\n",
        "plt.show()\n",
        "\n",
        "metrics = {'MAE': mae_stacking, 'MSE': mse_stacking, 'R²': r2_stacking}\n",
        "plt.figure(figsize=(12, 6))\n",
        "plt.bar(metrics.keys(), metrics.values(), color=['blue', 'green', 'orange'])\n",
        "plt.xlabel('Метрика')\n",
        "plt.ylabel('Значение')\n",
        "plt.title('Метрики качества модели (Stacking)')\n",
        "plt.show()"
      ],
      "metadata": {
        "id": "W7QY_Iyr86SV"
      },
      "execution_count": null,
      "outputs": []
    },
    {
      "cell_type": "markdown",
      "source": [],
      "metadata": {
        "id": "EKi8nEzeMRrG"
      }
    }
  ]
}